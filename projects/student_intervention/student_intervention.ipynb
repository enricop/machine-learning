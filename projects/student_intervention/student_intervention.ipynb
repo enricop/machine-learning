{
 "cells": [
  {
   "cell_type": "markdown",
   "metadata": {},
   "source": [
    "# Machine Learning Engineer Nanodegree\n",
    "## Supervised Learning\n",
    "## Project 2: Building a Student Intervention System"
   ]
  },
  {
   "cell_type": "markdown",
   "metadata": {},
   "source": [
    "Welcome to the second project of the Machine Learning Engineer Nanodegree! In this notebook, some template code has already been provided for you, and it will be your job to implement the additional functionality necessary to successfully complete this project. Sections that begin with **'Implementation'** in the header indicate that the following block of code will require additional functionality which you must provide. Instructions will be provided for each section and the specifics of the implementation are marked in the code block with a `'TODO'` statement. Please be sure to read the instructions carefully!\n",
    "\n",
    "In addition to implementing code, there will be questions that you must answer which relate to the project and your implementation. Each section where you will answer a question is preceded by a **'Question X'** header. Carefully read each question and provide thorough answers in the following text boxes that begin with **'Answer:'**. Your project submission will be evaluated based on your answers to each of the questions and the implementation you provide.  \n",
    "\n",
    ">**Note:** Code and Markdown cells can be executed using the **Shift + Enter** keyboard shortcut. In addition, Markdown cells can be edited by typically double-clicking the cell to enter edit mode."
   ]
  },
  {
   "cell_type": "markdown",
   "metadata": {},
   "source": [
    "### Question 1 - Classification vs. Regression\n",
    "*Your goal for this project is to identify students who might need early intervention before they fail to graduate. Which type of supervised learning problem is this, classification or regression? Why?*"
   ]
  },
  {
   "cell_type": "markdown",
   "metadata": {},
   "source": [
    "**Answer: **\n",
    "\n",
    "We can understand the type of problem looking at the objective of the supervised learning model.\n",
    "What we want to predict is whether or not a student needs an early intervention.\n",
    "So we want to map input features with a function that outputs 0 or 1.\n",
    "Hence we are classifying the input data to a discrete output. This is a classification problem.\n",
    "\n",
    "Given the dissociation between the objective (classification) and the estimation criterion (regression), i should clarify the following:\n",
    " - We might estimate a regression function, based on the available data, that defines a linear decision boundary that partitions the input space into two class specific regions.\n",
    " - Different would be predicting for example a continuous property for a student, which would be a regression problem."
   ]
  },
  {
   "cell_type": "markdown",
   "metadata": {},
   "source": [
    "## Exploring the Data\n",
    "Run the code cell below to load necessary Python libraries and load the student data. Note that the last column from this dataset, `'passed'`, will be our target label (whether the student graduated or didn't graduate). All other columns are features about each student."
   ]
  },
  {
   "cell_type": "code",
   "execution_count": 106,
   "metadata": {
    "collapsed": false
   },
   "outputs": [
    {
     "name": "stdout",
     "output_type": "stream",
     "text": [
      "Student data read successfully!\n"
     ]
    }
   ],
   "source": [
    "# Import libraries\n",
    "import numpy as np\n",
    "import pandas as pd\n",
    "from time import time\n",
    "from sklearn.metrics import f1_score\n",
    "\n",
    "# Read student data\n",
    "student_data = pd.read_csv(\"student-data.csv\")\n",
    "print \"Student data read successfully!\""
   ]
  },
  {
   "cell_type": "markdown",
   "metadata": {},
   "source": [
    "### Implementation: Data Exploration\n",
    "Let's begin by investigating the dataset to determine how many students we have information on, and learn about the graduation rate among these students. In the code cell below, you will need to compute the following:\n",
    "- The total number of students, `n_students`.\n",
    "- The total number of features for each student, `n_features`.\n",
    "- The number of those students who passed, `n_passed`.\n",
    "- The number of those students who failed, `n_failed`.\n",
    "- The graduation rate of the class, `grad_rate`, in percent (%).\n"
   ]
  },
  {
   "cell_type": "code",
   "execution_count": 107,
   "metadata": {
    "collapsed": false
   },
   "outputs": [
    {
     "name": "stdout",
     "output_type": "stream",
     "text": [
      "Total number of students: 395\n",
      "Number of features: 30\n",
      "Number of students who passed: 265\n",
      "Number of students who failed: 130\n",
      "Graduation rate of the class: 67.09%\n"
     ]
    }
   ],
   "source": [
    "# Calculate number of students\n",
    "n_students = student_data.shape[0]\n",
    "\n",
    "# Calculate number of features\n",
    "n_features = student_data.shape[1] - 1 # we exclude the target column 'passed'\n",
    "\n",
    "# Calculate passing students\n",
    "n_passed = student_data[student_data.passed == \"yes\"].shape[0]\n",
    "\n",
    "# Calculate failing students\n",
    "n_failed = student_data[student_data.passed == \"no\"].shape[0]\n",
    "\n",
    "# Calculate graduation rate\n",
    "grad_rate = (n_passed / float(n_students)) * 100\n",
    "\n",
    "# Print the results\n",
    "print \"Total number of students: {}\".format(n_students)\n",
    "print \"Number of features: {}\".format(n_features)\n",
    "print \"Number of students who passed: {}\".format(n_passed)\n",
    "print \"Number of students who failed: {}\".format(n_failed)\n",
    "print \"Graduation rate of the class: {:.2f}%\".format(grad_rate)"
   ]
  },
  {
   "cell_type": "markdown",
   "metadata": {},
   "source": [
    "## Preparing the Data\n",
    "In this section, we will prepare the data for modeling, training and testing.\n",
    "\n",
    "### Identify feature and target columns\n",
    "It is often the case that the data you obtain contains non-numeric features. This can be a problem, as most machine learning algorithms expect numeric data to perform computations with.\n",
    "\n",
    "Run the code cell below to separate the student data into feature and target columns to see if any features are non-numeric."
   ]
  },
  {
   "cell_type": "code",
   "execution_count": 108,
   "metadata": {
    "collapsed": false
   },
   "outputs": [
    {
     "name": "stdout",
     "output_type": "stream",
     "text": [
      "Feature columns:\n",
      "['school', 'sex', 'age', 'address', 'famsize', 'Pstatus', 'Medu', 'Fedu', 'Mjob', 'Fjob', 'reason', 'guardian', 'traveltime', 'studytime', 'failures', 'schoolsup', 'famsup', 'paid', 'activities', 'nursery', 'higher', 'internet', 'romantic', 'famrel', 'freetime', 'goout', 'Dalc', 'Walc', 'health', 'absences']\n",
      "\n",
      "Target column: passed\n",
      "\n",
      "Feature values:\n",
      "  school sex  age address famsize Pstatus  Medu  Fedu     Mjob      Fjob  \\\n",
      "0     GP   F   18       U     GT3       A     4     4  at_home   teacher   \n",
      "1     GP   F   17       U     GT3       T     1     1  at_home     other   \n",
      "2     GP   F   15       U     LE3       T     1     1  at_home     other   \n",
      "3     GP   F   15       U     GT3       T     4     2   health  services   \n",
      "4     GP   F   16       U     GT3       T     3     3    other     other   \n",
      "\n",
      "    ...    higher internet  romantic  famrel  freetime goout Dalc Walc health  \\\n",
      "0   ...       yes       no        no       4         3     4    1    1      3   \n",
      "1   ...       yes      yes        no       5         3     3    1    1      3   \n",
      "2   ...       yes      yes        no       4         3     2    2    3      3   \n",
      "3   ...       yes      yes       yes       3         2     2    1    1      5   \n",
      "4   ...       yes       no        no       4         3     2    1    2      5   \n",
      "\n",
      "  absences  \n",
      "0        6  \n",
      "1        4  \n",
      "2       10  \n",
      "3        2  \n",
      "4        4  \n",
      "\n",
      "[5 rows x 30 columns]\n"
     ]
    }
   ],
   "source": [
    "# Extract feature columns\n",
    "feature_cols = list(student_data.columns[:-1])\n",
    "\n",
    "# Extract target column 'passed'\n",
    "target_col = student_data.columns[-1] \n",
    "\n",
    "# Show the list of columns\n",
    "print \"Feature columns:\\n{}\".format(feature_cols)\n",
    "print \"\\nTarget column: {}\".format(target_col)\n",
    "\n",
    "# Separate the data into feature data and target data (X_all and y_all, respectively)\n",
    "X_all = student_data[feature_cols]\n",
    "y_all = student_data[target_col]\n",
    "\n",
    "# Show the feature information by printing the first five rows\n",
    "print \"\\nFeature values:\"\n",
    "print X_all.head()"
   ]
  },
  {
   "cell_type": "markdown",
   "metadata": {},
   "source": [
    "### Preprocess Feature Columns\n",
    "\n",
    "As you can see, there are several non-numeric columns that need to be converted! Many of them are simply `yes`/`no`, e.g. `internet`. These can be reasonably converted into `1`/`0` (binary) values.\n",
    "\n",
    "Other columns, like `Mjob` and `Fjob`, have more than two values, and are known as _categorical variables_. The recommended way to handle such a column is to create as many columns as possible values (e.g. `Fjob_teacher`, `Fjob_other`, `Fjob_services`, etc.), and assign a `1` to one of them and `0` to all others.\n",
    "\n",
    "These generated columns are sometimes called _dummy variables_, and we will use the [`pandas.get_dummies()`](http://pandas.pydata.org/pandas-docs/stable/generated/pandas.get_dummies.html?highlight=get_dummies#pandas.get_dummies) function to perform this transformation. Run the code cell below to perform the preprocessing routine discussed in this section."
   ]
  },
  {
   "cell_type": "code",
   "execution_count": 109,
   "metadata": {
    "collapsed": false
   },
   "outputs": [
    {
     "name": "stdout",
     "output_type": "stream",
     "text": [
      "Processed feature columns (48 total features):\n",
      "['school_GP', 'school_MS', 'sex_F', 'sex_M', 'age', 'address_R', 'address_U', 'famsize_GT3', 'famsize_LE3', 'Pstatus_A', 'Pstatus_T', 'Medu', 'Fedu', 'Mjob_at_home', 'Mjob_health', 'Mjob_other', 'Mjob_services', 'Mjob_teacher', 'Fjob_at_home', 'Fjob_health', 'Fjob_other', 'Fjob_services', 'Fjob_teacher', 'reason_course', 'reason_home', 'reason_other', 'reason_reputation', 'guardian_father', 'guardian_mother', 'guardian_other', 'traveltime', 'studytime', 'failures', 'schoolsup', 'famsup', 'paid', 'activities', 'nursery', 'higher', 'internet', 'romantic', 'famrel', 'freetime', 'goout', 'Dalc', 'Walc', 'health', 'absences']\n"
     ]
    }
   ],
   "source": [
    "def preprocess_features(X):\n",
    "    ''' Preprocesses the student data and converts non-numeric binary variables into\n",
    "        binary (0/1) variables. Converts categorical variables into dummy variables. '''\n",
    "    \n",
    "    # Initialize new output DataFrame\n",
    "    output = pd.DataFrame(index = X.index)\n",
    "\n",
    "    # Investigate each feature column for the data\n",
    "    for col, col_data in X.iteritems():\n",
    "        \n",
    "        # If data type is non-numeric, replace all yes/no values with 1/0\n",
    "        if col_data.dtype == object:\n",
    "            col_data = col_data.replace(['yes', 'no'], [1, 0])\n",
    "\n",
    "        # If data type is categorical, convert to dummy variables\n",
    "        if col_data.dtype == object:\n",
    "            # Example: 'school' => 'school_GP' and 'school_MS'\n",
    "            col_data = pd.get_dummies(col_data, prefix = col)  \n",
    "        \n",
    "        # Collect the revised columns\n",
    "        output = output.join(col_data)\n",
    "    \n",
    "    return output\n",
    "\n",
    "X_all = preprocess_features(X_all)\n",
    "print \"Processed feature columns ({} total features):\\n{}\".format(len(X_all.columns), list(X_all.columns))"
   ]
  },
  {
   "cell_type": "markdown",
   "metadata": {},
   "source": [
    "### Implementation: Training and Testing Data Split\n",
    "So far, we have converted all _categorical_ features into numeric values. For the next step, we split the data (both features and corresponding labels) into training and test sets. In the following code cell below, you will need to implement the following:\n",
    "- Randomly shuffle and split the data (`X_all`, `y_all`) into training and testing subsets.\n",
    "  - Use 300 training points (approximately 75%) and 95 testing points (approximately 25%).\n",
    "  - Set a `random_state` for the function(s) you use, if provided.\n",
    "  - Store the results in `X_train`, `X_test`, `y_train`, and `y_test`."
   ]
  },
  {
   "cell_type": "code",
   "execution_count": 110,
   "metadata": {
    "collapsed": false
   },
   "outputs": [
    {
     "name": "stdout",
     "output_type": "stream",
     "text": [
      "Training set has 300 samples.\n",
      "Testing set has 95 samples.\n"
     ]
    }
   ],
   "source": [
    "from sklearn.cross_validation import train_test_split\n",
    "\n",
    "# Set the number of training points\n",
    "num_train = 300\n",
    "\n",
    "# Set the number of testing points\n",
    "num_test = X_all.shape[0] - num_train\n",
    "\n",
    "# Shuffle and split the dataset into the number of training and testing points above\n",
    "X_train, X_test, y_train, y_test = train_test_split(X_all, y_all, test_size=num_test,\n",
    "                                                    train_size=num_train, random_state=33)\n",
    "\n",
    "# Show the results of the split\n",
    "print \"Training set has {} samples.\".format(X_train.shape[0])\n",
    "print \"Testing set has {} samples.\".format(X_test.shape[0])"
   ]
  },
  {
   "cell_type": "markdown",
   "metadata": {},
   "source": [
    "## Training and Evaluating Models\n",
    "In this section, you will choose 3 supervised learning models that are appropriate for this problem and available in `scikit-learn`. You will first discuss the reasoning behind choosing these three models by considering what you know about the data and each model's strengths and weaknesses. You will then fit the model to varying sizes of training data (100 data points, 200 data points, and 300 data points) and measure the F<sub>1</sub> score. You will need to produce three tables (one for each model) that shows the training set size, training time, prediction time, F<sub>1</sub> score on the training set, and F<sub>1</sub> score on the testing set.\n",
    "\n",
    "**The following supervised learning models are currently available in** [`scikit-learn`](http://scikit-learn.org/stable/supervised_learning.html) **that you may choose from:**\n",
    "- Gaussian Naive Bayes (GaussianNB)\n",
    "- Decision Trees\n",
    "- Ensemble Methods (Bagging, AdaBoost, Random Forest, Gradient Boosting)\n",
    "- K-Nearest Neighbors (KNeighbors)\n",
    "- Stochastic Gradient Descent (SGDC)\n",
    "- Support Vector Machines (SVM)\n",
    "- Logistic Regression"
   ]
  },
  {
   "cell_type": "markdown",
   "metadata": {},
   "source": [
    "### Question 2 - Model Application\n",
    "*List three supervised learning models that are appropriate for this problem. For each model chosen*\n",
    "- Describe one real-world application in industry where the model can be applied. *(You may need to do a small bit of research for this — give references!)* \n",
    "- What are the strengths of the model; when does it perform well? \n",
    "- What are the weaknesses of the model; when does it perform poorly?\n",
    "- What makes this model a good candidate for the problem, given what you know about the data?"
   ]
  },
  {
   "cell_type": "markdown",
   "metadata": {},
   "source": [
    "**Answer: **\n",
    "\n",
    "The structure of the data is the following:\n",
    " - data points are 395\n",
    " - features are 31\n",
    "\n",
    "Considering that the student dataset is small with a large set of features, its not unexpected to get a lot of noise or statistically irrelevant results.\n",
    "The curse of dimensionality applies to every supervised algorithm. Since every machine learning algorithm is trying to find patterns, they all need to look at the interactions between every possible combination of features. The set of combinations of variables grows exponentially with the number of features. This isn't true of something like linear regression, but it is true of SVMs, Neural Networks, Decision Trees, and anything that can represent arbitrary functions.\n",
    "\n",
    "In this problem also we have limited resources where space, learning, and query time all matter, not just prevision performance. By looking into the complexity of each of the three model it can serve as a basic heuristic to reduce one or more of these costs as much as possible.\n",
    "\n",
    "To assess if our prediction is reasonable, besides from comparing it with the median, the mean and checking if it is included in one standard deviation range, we can use SKlearn functions to find the nearest neighbours of the feature vector. We can then contrast your results with the closest neighbours, the ones that have similar characteristics.\n",
    "\n",
    "Labels also might be unbalanced/sparse.\n",
    "\n",
    "The three supervised learning model i choose for this problem are the following:\n",
    " - SVM\n",
    " - KNN\n",
    " - Neural Networks ( i'm using scikit-learn master branch - v0.18 rev0.0.4 )\n",
    "\n",
    "I analyze how each of these interact with the dataset when it comes to training and predicting:\n",
    "\n",
    "=== SVM ==\n",
    "\n",
    "the general applications for this model are:\n",
    "  - classification of images\n",
    "  - Hand-written characters can be recognition.\n",
    "  - biological and other sciences. They have been used to classify proteins with up to 90% of the compounds classified correctly\n",
    "\n",
    "Support vector machines use optimal margin classifier to create margins that separate data.\n",
    "\n",
    "Rather than linear classifiers, that use the vector θ to desribe the parameters for the margins, SVM use parameters vectors w, b, and write the classifier as h(x) = g(w' * x + b). The decision boundary (the line separating the positive and negative examples) corresponding to is given by: (w, b). The vector w is orthogonal (at 90◦) to the separating hyperplane.\n",
    "Solving a constrained optimization problem it is possible the obtain the parameters that maximizes the margin. SVM use a quadratic optimization problem to avoid ‘local minimum’ issues of neural nets for example. The solutions define \"support vectors\" can be used, with a product of the input data, to make predictions. Support vectors lie on the few data points closest to the decision boundary (or hyperplane).\n",
    "\n",
    "The notion of kernels then give a way to apply SVMs efficiently in very high dimensional feature spaces. “kernel functions” offer a new efficient separability of non-linear regions. They are a generalization of ‘similarity’ to new kinds of similarity measures based on dot products.\n",
    "”kernel function” defines inner products in the transformed space. Or, it defines similarity in the transformed space. The idea is to gain linearly separation by mapping the data to a higher dimensional space. A set, for example, might not be separated by a linear function, but can be separated by a quadratic one.\n",
    "\n",
    "With SVM there can be lots of input features. Feature scaling is very important for SVM when we use non linear kernels, expecially before using the Gaussian Kernel. Scaling all of the features such that they have mean zero and unit variance greatly helps with the performance of SVM, since each feature can be compared equivalently to the others, giving better results in dot products.\n",
    "\n",
    "We also have to choose the 'C' parameter for regularization for obtaining the decision boundary. When we wish to regularize more (reduce overfitting), we decrease C, and when we wish to regularize less (reduce underfitting), we increase C.\n",
    "This large margin is only achieved when C is very large. Data is linearly separable when a straight line can separate the positive and negative examples. If we have outlier examples that we don't want to affect the decision boundary, then we can reduce C. We could also train C and the parameters for the kernel function using the training and cross-validation datasets.\n",
    " \n",
    "=== KNN ==\n",
    "\n",
    "The nearest neighbor search problem arises in numerous fields of application, including:\n",
    " - Pattern recognition - in particular for optical character recognition\n",
    " - Computer vision\n",
    " - Computational geometry - see Closest pair of points problem\n",
    " - Robotic sensing\n",
    " - Internet marketing - see contextual advertising and behavioral targeting\n",
    " - Chemical similarity\n",
    "\n",
    "K nearest neighbors algorithm is a lazy learner. In contrast to eager learners, lazy learners do not compute a function to fit the training data before new data is received.\n",
    "\n",
    "KNN, in one dimension, produce for each training point a horizontal segment that extends from half the distance to the point on the left to half the distance of the point on the right.\n",
    "More generally, we can use an arbitrary distance function to define a nearest neighbor.\n",
    "One way to reduce the variance is local averaging: instead of just one neighbor, we find K and average their predictions.\n",
    "New instances are compared to the training data itself to make a classification or  regression judgment. Lazy learners have advantages in local scale estimation and easy integration of additional training data.\n",
    "\n",
    " - The training time for KNN is fast compared with linear regresion with has to obtain coefficients.\n",
    " - KNN have higher memory requirements since it stores all the training data, and linear regression only stores function coefficients.\n",
    " - Prediction time is slower in KNN than linear regression because new instances must be fit to the whole data set.\n",
    "\n",
    "In our problem we do not need a limited model space since we do not have a large dataset, so I would probably point to using KNN as opposed to linear regression.\n",
    "Moreover if the data cannot be represented by a linear regression (which assumes each feature is independent) it is perhaps better to use KNN which might be better to obtain a higher F1 score on the test set.\n",
    "\n",
    "=== NN ===\n",
    "\n",
    "the general applications for this model are:\n",
    "  - Classification, including pattern and sequence recognition, novelty detection and sequential decision making\n",
    "  - Robotics, including directing manipulators, prosthesis.\n",
    "  - Control, including Computer numerical control\n",
    "\n",
    "Neural Network model is different from logistic regression, in that between the input and the output layer, there can be one or more hidden layers layers.\n",
    "The leftmost layer, known as the input layer, consists of a set of neurons representing the input features. Each neuron in the hidden layer transforms the values from the previous layer with a weighted linear summation followed by a non-linear activation function like the hyperbolic tan function. The output layer receives the values from the last hidden layer and transforms them into output values.\n",
    "\n",
    "The advantages of Multi-layer Neural Networks are:\n",
    " - Capability to learn non-linear models.\n",
    " - Capability to learn models in real-time (on-line learning) using partial_fit.\n",
    "\n",
    "The disadvantages of Multi-layer Neural Networks include:\n",
    " - The training time is high compared to SVM and KNN\n",
    " - NN with hidden layers have a non-convex loss function where there exists more than one local minimum. Therefore different random weight initializations can lead to different validation accuracy.\n",
    " - NN requires tuning a number of hyperparameters such as the number of hidden neurons, layers, and iterations.\n",
    " - NN is sensitive to feature scaling.\n",
    "\n",
    "NN classifier also uses parameter alpha for regularization (L2 regularization) term which helps in avoiding overfitting by penalizing weights with large magnitudes."
   ]
  },
  {
   "cell_type": "markdown",
   "metadata": {},
   "source": [
    "### Setup\n",
    "Run the code cell below to initialize three helper functions which you can use for training and testing the three supervised learning models you've chosen above. The functions are as follows:\n",
    "- `train_classifier` - takes as input a classifier and training data and fits the classifier to the data.\n",
    "- `predict_labels` - takes as input a fit classifier, features, and a target labeling and makes predictions using the F<sub>1</sub> score.\n",
    "- `train_predict` - takes as input a classifier, and the training and testing data, and performs `train_clasifier` and `predict_labels`.\n",
    " - This function will report the F<sub>1</sub> score for both the training and testing data separately."
   ]
  },
  {
   "cell_type": "code",
   "execution_count": 111,
   "metadata": {
    "collapsed": false
   },
   "outputs": [],
   "source": [
    "def train_classifier(clf, X_train, y_train):\n",
    "    ''' Fits a classifier to the training data. '''\n",
    "    \n",
    "    # Start the clock, train the classifier, then stop the clock\n",
    "    start = time()\n",
    "    clf.fit(X_train, y_train)\n",
    "    end = time()\n",
    "    \n",
    "    # Print the results\n",
    "    print \"Trained model in {:.4f} seconds\".format(end - start)\n",
    "\n",
    "    \n",
    "def predict_labels(clf, features, target):\n",
    "    ''' Makes predictions using a fit classifier based on F1 score. '''\n",
    "    \n",
    "    # Start the clock, make predictions, then stop the clock\n",
    "    start = time()\n",
    "    y_pred = clf.predict(features)\n",
    "    end = time()\n",
    "    \n",
    "    # Print and return results\n",
    "    print \"Made predictions in {:.4f} seconds.\".format(end - start)\n",
    "    return f1_score(target.values, y_pred, pos_label='yes')\n",
    "\n",
    "\n",
    "def train_predict(clf, X_train, y_train, X_test, y_test):\n",
    "    ''' Train and predict using a classifer based on F1 score. '''\n",
    "    \n",
    "    # Indicate the classifier and the training set size\n",
    "    print \"Training a {} using a training set size of {}. . .\".format(clf.__class__.__name__, len(X_train))\n",
    "    \n",
    "    # Train the classifier\n",
    "    train_classifier(clf, X_train, y_train)\n",
    "    \n",
    "    # Print the results of prediction for both training and testing\n",
    "    print \"F1 score for training set: {:.4f}.\".format(predict_labels(clf, X_train, y_train))\n",
    "    print \"F1 score for test set: {:.4f}.\".format(predict_labels(clf, X_test, y_test))"
   ]
  },
  {
   "cell_type": "markdown",
   "metadata": {},
   "source": [
    "### Implementation: Model Performance Metrics\n",
    "With the predefined functions above, you will now import the three supervised learning models of your choice and run the `train_predict` function for each one. Remember that you will need to train and predict on each classifier for three different training set sizes: 100, 200, and 300. Hence, you should expect to have 9 different outputs below — 3 for each model using the varying training set sizes. In the following code cell, you will need to implement the following:\n",
    "- Import the three supervised learning models you've discussed in the previous section.\n",
    "- Initialize the three models and store them in `clf_A`, `clf_B`, and `clf_C`.\n",
    " - Use a `random_state` for each model you use, if provided.\n",
    " - **Note:** Use the default settings for each model — you will tune one specific model in a later section.\n",
    "- Create the different training set sizes to be used to train each model.\n",
    " - *Do not reshuffle and resplit the data! The new training points should be drawn from `X_train` and `y_train`.*\n",
    "- Fit each model with each training set size and make predictions on the test set (9 in total).  \n",
    "**Note:** Three tables are provided after the following code cell which can be used to store your results."
   ]
  },
  {
   "cell_type": "code",
   "execution_count": 112,
   "metadata": {
    "collapsed": false
   },
   "outputs": [
    {
     "name": "stdout",
     "output_type": "stream",
     "text": [
      "Training a SVC using a training set size of 100. . .\n",
      "Trained model in 0.0084 seconds\n",
      "Made predictions in 0.0036 seconds.\n",
      "F1 score for training set: 0.9048.\n",
      "Made predictions in 0.0020 seconds.\n",
      "F1 score for test set: 0.7248.\n",
      "\n",
      "\n",
      "Training a SVC using a training set size of 200. . .\n",
      "Trained model in 0.0070 seconds\n",
      "Made predictions in 0.0040 seconds.\n",
      "F1 score for training set: 0.8854.\n",
      "Made predictions in 0.0016 seconds.\n",
      "F1 score for test set: 0.7101.\n",
      "\n",
      "\n",
      "Training a SVC using a training set size of 300. . .\n",
      "Trained model in 0.0088 seconds\n",
      "Made predictions in 0.0068 seconds.\n",
      "F1 score for training set: 0.8758.\n",
      "Made predictions in 0.0023 seconds.\n",
      "F1 score for test set: 0.7246.\n",
      "\n",
      "\n",
      "Training a KNeighborsClassifier using a training set size of 100. . .\n",
      "Trained model in 0.0004 seconds\n",
      "Made predictions in 0.0018 seconds.\n",
      "F1 score for training set: 0.8957.\n",
      "Made predictions in 0.0018 seconds.\n",
      "F1 score for test set: 0.7259.\n",
      "\n",
      "\n",
      "Training a KNeighborsClassifier using a training set size of 200. . .\n",
      "Trained model in 0.0007 seconds\n",
      "Made predictions in 0.0039 seconds.\n",
      "F1 score for training set: 0.8754.\n",
      "Made predictions in 0.0022 seconds.\n",
      "F1 score for test set: 0.7368.\n",
      "\n",
      "\n",
      "Training a KNeighborsClassifier using a training set size of 300. . .\n",
      "Trained model in 0.0009 seconds\n",
      "Made predictions in 0.0070 seconds.\n",
      "F1 score for training set: 0.8764.\n",
      "Made predictions in 0.0029 seconds.\n",
      "F1 score for test set: 0.7442.\n",
      "\n",
      "\n",
      "Training a MLPClassifier using a training set size of 100. . .\n",
      "Trained model in 0.0146 seconds\n",
      "Made predictions in 0.0006 seconds.\n",
      "F1 score for training set: 0.8636.\n",
      "Made predictions in 0.0005 seconds.\n",
      "F1 score for test set: 0.7248.\n",
      "\n",
      "\n",
      "Training a MLPClassifier using a training set size of 200. . .\n",
      "Trained model in 0.0225 seconds\n",
      "Made predictions in 0.0010 seconds.\n",
      "F1 score for training set: 0.8260.\n",
      "Made predictions in 0.0005 seconds.\n",
      "F1 score for test set: 0.7297.\n",
      "\n",
      "\n",
      "Training a MLPClassifier using a training set size of 300. . .\n",
      "Trained model in 0.0220 seconds\n",
      "Made predictions in 0.0014 seconds.\n",
      "F1 score for training set: 0.8275.\n",
      "Made predictions in 0.0006 seconds.\n",
      "F1 score for test set: 0.7297.\n",
      "\n",
      "\n"
     ]
    }
   ],
   "source": [
    "# Import the three supervised learning models from sklearn\n",
    "from sklearn import svm\n",
    "from sklearn.neighbors import KNeighborsClassifier\n",
    "from sklearn.neural_network import MLPClassifier\n",
    "\n",
    "# Initialize the three models\n",
    "clf_A = svm.SVC(random_state=1)\n",
    "clf_B = KNeighborsClassifier()\n",
    "clf_C = MLPClassifier(random_state=1)\n",
    "\n",
    "# Set up the training set sizes\n",
    "# Execute the 'train_predict' function for each classifier and each training set size\n",
    "for clf in [clf_A, clf_B, clf_C]:\n",
    "    for size in [100, 200, 300]:\n",
    "        train_predict(clf, X_train[:size], y_train[:size], X_test, y_test)\n",
    "        print '\\n'"
   ]
  },
  {
   "cell_type": "markdown",
   "metadata": {},
   "source": [
    "### Tabular Results\n",
    "Edit the cell below to see how a table can be designed in [Markdown](https://github.com/adam-p/markdown-here/wiki/Markdown-Cheatsheet#tables). You can record your results from above in the tables provided."
   ]
  },
  {
   "cell_type": "markdown",
   "metadata": {},
   "source": [
    "** Classifer 1 - SVC\n",
    "\n",
    "| Training Set Size | Training Time | Prediction Time (test) | F1 Score (train) | F1 Score (test) |\n",
    "| :---------------: | :---------------------: | :--------------------: | :--------------: | :-------------: |\n",
    "| 100               | 0.0015                  | 0.0009                 | 0.9048           | 0.7248          |\n",
    "| 200               | 0.0041                  | 0.0031                 | 0.8854           | 0.7101          |\n",
    "| 300               | 0.0084                  | 0.0065                 | 0.8758           | 0.7246          |\n",
    "\n",
    "** Classifer 2 - KNeighborsClassifier \n",
    "\n",
    "| Training Set Size | Training Time | Prediction Time (test) | F1 Score (train) | F1 Score (test) |\n",
    "| :---------------: | :---------------------: | :--------------------: | :--------------: | :-------------: |\n",
    "| 100               | 0.0004                  | 0.0011                 | 0.8957           | 0.7259          |\n",
    "| 200               | 0.0005                  | 0.0029                 | 0.8754           | 0.7368          |\n",
    "| 300               | 0.0006                  | 0.0059                 | 0.8764           | 0.7442          |\n",
    "\n",
    "** Classifer 3 - MLPClassifier\n",
    "\n",
    "| Training Set Size | Training Time | Prediction Time (test) | F1 Score (train) | F1 Score (test) |\n",
    "| :---------------: | :---------------------: | :--------------------: | :--------------: | :-------------: |\n",
    "| 100               | 0.0159                  |  0.0006                | 0.8636           | 0.7248          |\n",
    "| 200               | 0.0219                  |  0.0009                | 0.8260           | 0.7297          |\n",
    "| 300               | 0.0210                  |  0.0013                | 0.8275           | 0.7297          |"
   ]
  },
  {
   "cell_type": "markdown",
   "metadata": {},
   "source": [
    "## Choosing the Best Model\n",
    "In this final section, you will choose from the three supervised learning models the *best* model to use on the student data. You will then perform a grid search optimization for the model over the entire training set (`X_train` and `y_train`) by tuning at least one parameter to improve upon the untuned model's F<sub>1</sub> score. "
   ]
  },
  {
   "cell_type": "markdown",
   "metadata": {},
   "source": [
    "### Question 3 - Choosing the Best Model\n",
    "*Based on the experiments you performed earlier, in one to two paragraphs, explain to the board of supervisors what single model you chose as the best model. Which model is generally the most appropriate based on the available data, limited resources, cost, and performance?*"
   ]
  },
  {
   "cell_type": "markdown",
   "metadata": {},
   "source": [
    "**Answer: **\n",
    "\n",
    "Multi-layer Perceptron classifier model is my choice.\n",
    "\n",
    " - Because it cost money to run these algorithms on a third party vendor's computers, we need to consider not just the F1 score performance, but the computation resources each algorithm needs to use. Since the board of supervisors has asked the most effective model that uses the least amount of computation costs to save on the budget, we can use Neural Networks over KNN. KNN also needs to keep in memory all the input data, which might be a problem if students increase a lot. Neural Network is more memory efficient.\n",
    " - KNN is three times as expensive as Neural Network for making predictions on new data. This is an online/realtime service, so we might get many queries per second. The prediction time should be low.\n",
    " - I expect we need to train the model again only when the course period is over, so training time is allowed to be relatively high.\n",
    " \n",
    "SVM might not perform as good as Neural Network in some cases. In this case SVM suffers from overfitting as the F1 score in training set is much higher than on test set.\n",
    "\n",
    "Scaling needs to be used whenever our classifier considers differences in multiple features simultaneously, like NN.\n",
    "It could be the case that this data is already mostly normally distributed and equivalently scaled. In that case, scaling won't make a big difference in performance, but it may be hard to say whether this is the case beforehand.\n",
    "\n",
    "The kernel function that is actually performing better for this kind of problem is the Linear Function rather than the Radial Basis function."
   ]
  },
  {
   "cell_type": "markdown",
   "metadata": {},
   "source": [
    "### Question 4 - Model in Layman's Terms\n",
    "*In one to two paragraphs, explain to the board of directors in layman's terms how the final model chosen is supposed to work. Be sure that you are describing the major qualities of the model, such as how the model is trained and how the model makes a prediction. Avoid using advanced mathematical or technical jargon, such as describing equations or discussing the algorithm implementation.*"
   ]
  },
  {
   "cell_type": "markdown",
   "metadata": {},
   "source": [
    "**Answer: **\n",
    "\n",
    "Our model works like a human brain, and can be described as a biological neural network.\n",
    "Like biological neural network, it is an interconnected web of neurons transmitting signals.\n",
    "The input informations, which are our student characteristics, like sex, family size, address, are processed\n",
    "collectively, in parallel throughout a network of nodes (the nodes, in this case, being neurons), like the one below.\n",
    "\n",
    "<img src=\"http://www.webpages.ttu.edu/dleverin/neural_network/fig_3p5_typical_network_NET3.jpg\" width=\"300\"> \n",
    "\n",
    "For example, let’s take the \"passing\" and \"not passing\" students recognition example.\n",
    "We show the network model a set of students, and the network already knows the characteristics associated with each student.\n",
    "The network makes its guesses, then we provide the network model with the answers.\n",
    "The network can then compare its answers to the known “correct” ones and make adjustments according to its errors.\n",
    "\n",
    "The idea of the perceptron in closely related to the biological neuron.\n",
    "\n",
    "<img src=\"http://www.webpages.ttu.edu/dleverin/neural_network/fig_3p6_neurons_NEURON4.jpg\" width=\"300\"> \n",
    "\n",
    "A perceptron is the simplest neural network possible: a neural network model of a single neuron. A perceptron consists of one or more inputs (student input data), a processor, and a single output (student position). \n",
    "Weights can be imagined as the \"sensitivity\" to that student attribute.\n",
    "\n",
    "<img src=\"http://natureofcode.com/book/imgs/chapter10/ch10_03.png\" width=\"500\">\n",
    "\n",
    "To summarize, the perceptron “classifies” input values as either 1 or 0, according to the following rule:\n",
    "The perceptron’s binary output is determined by summing the products of inputs and their respective weight values. Then a variable threshold value is used: if the linear sum of the input/weight products is greater than a threshold value (theta), the output of the system is 1 (otherwise, a 0 is returned).\n",
    "The output unit is thus said to be, like the perceptron output unit, a threshold unit.\n",
    "\n",
    "If the output of a particular training case is labelled 1 when it should be labelled 0, the threshold value (theta) is increased by 1, and all weight values associated with inputs of 1 are decreased by 1. The opposite is performed if the output of a training case is labelled 0 when it should be labelled 1. No changes are made to the threshold value or weights if a particular training case is correctly classified.\n",
    "\n",
    "This training rule can be imagined as the rule that allows the whole network to train itself. The perceptron’s error can be defined as the difference between the desired answer and its guess. This rule is used to drive learning of the neural network, adjusting, in the end, the weights activating each perceptron threshold.\n",
    "\n",
    "In multilayered networks, error at neurons in the layer directly preceding the output layer is a function of the errors on all units that use its output.\n",
    "\n",
    "![back](http://3.bp.blogspot.com/-YjW7XIVYRtA/UmjeY_ysRvI/AAAAAAAAAKc/H_H3D9vCz1E/s1600/Selection_003.png)\n",
    "\n",
    "The size of the hidden layer determines how input student attributes are mapped to new attributes that reflects better the prediction on output nodes."
   ]
  },
  {
   "cell_type": "markdown",
   "metadata": {},
   "source": [
    "### Implementation: Model Tuning\n",
    "Fine tune the chosen model. Use grid search (`GridSearchCV`) with at least one important parameter tuned with at least 3 different values. You will need to use the entire training set for this. In the code cell below, you will need to implement the following:\n",
    "- Import [`sklearn.grid_search.gridSearchCV`](http://scikit-learn.org/stable/modules/generated/sklearn.grid_search.GridSearchCV.html) and [`sklearn.metrics.make_scorer`](http://scikit-learn.org/stable/modules/generated/sklearn.metrics.make_scorer.html).\n",
    "- Create a dictionary of parameters you wish to tune for the chosen model.\n",
    " - Example: `parameters = {'parameter' : [list of values]}`.\n",
    "- Initialize the classifier you've chosen and store it in `clf`.\n",
    "- Create the F<sub>1</sub> scoring function using `make_scorer` and store it in `f1_scorer`.\n",
    " - Set the `pos_label` parameter to the correct value!\n",
    "- Perform grid search on the classifier `clf` using `f1_scorer` as the scoring method, and store it in `grid_obj`.\n",
    "- Fit the grid search object to the training data (`X_train`, `y_train`), and store it in `grid_obj`."
   ]
  },
  {
   "cell_type": "code",
   "execution_count": 117,
   "metadata": {
    "collapsed": false
   },
   "outputs": [
    {
     "name": "stdout",
     "output_type": "stream",
     "text": [
      "Made predictions in 0.0013 seconds.\n",
      "Tuned model has a training F1 score of 0.8275.\n",
      "Made predictions in 0.0005 seconds.\n",
      "Tuned model has a testing F1 score of 0.7297.\n"
     ]
    }
   ],
   "source": [
    "from sklearn import grid_search\n",
    "from sklearn.metrics import make_scorer\n",
    "from sklearn import svm\n",
    "\n",
    "# from sklearn.preprocessing import StandardScaler  \n",
    "# scaler = StandardScaler()  \n",
    "## fit only on training data\n",
    "# scaler.fit(X_train)  \n",
    "# X_train = scaler.transform(X_train)  \n",
    "## apply same transformation to test data\n",
    "# X_test = scaler.transform(X_test)  \n",
    "\n",
    "# replace yes, no\n",
    "# y_train = y_train.replace(['yes', 'no'], [1, 0])\n",
    "\n",
    "# Create the parameters list you wish to tune\n",
    "parameters = {'alpha':[0.000005, 0.00001, 0.00005, 0.0001, 0.0002, 0.001],\n",
    "              'hidden_layer_sizes':[60, 100, 120]}\n",
    "\n",
    "# Initialize the classifier\n",
    "clf = MLPClassifier(random_state=1)\n",
    "\n",
    "# Make an f1 scoring function using 'make_scorer' \n",
    "f1_scorer = make_scorer(f1_score, pos_label='yes')\n",
    "\n",
    "# Perform grid search on the classifier using the f1_scorer as the scoring method\n",
    "grid_obj = grid_search.GridSearchCV(estimator=clf, param_grid=parameters, scoring=f1_scorer)\n",
    "\n",
    "# Fit the grid search object to the training data and find the optimal parameters\n",
    "grid_obj = grid_obj.fit(X_train, y_train)\n",
    "\n",
    "# Report the final F1 score for training and testing after parameter tuning\n",
    "print \"Tuned model has a training F1 score of {:.4f}.\".format(predict_labels(grid_obj, X_train, y_train))\n",
    "print \"Tuned model has a testing F1 score of {:.4f}.\".format(predict_labels(grid_obj, X_test, y_test))"
   ]
  },
  {
   "cell_type": "markdown",
   "metadata": {},
   "source": [
    "### Question 5 - Final F<sub>1</sub> Score\n",
    "*What is the final model's F<sub>1</sub> score for training and testing? How does that score compare to the untuned model?*"
   ]
  },
  {
   "cell_type": "markdown",
   "metadata": {},
   "source": [
    "**Answer: **\n",
    "\n",
    "Tuned model has a training F1 score of 0.8275.\n",
    "Tuned model has a testing F1 score of 0.7297.\n",
    "The untuned model has a testing F1 score of 0.7297.\n",
    "\n",
    "The tuned Neural Network model has the same F1 score of the untuned model.\n",
    "The default hidden network size is 100. This seems to be already an optimal value for our data points.\n",
    "There is no absolute guarantee that grid search will always find better model parameters. This depends on not only choosing the correct metric and number of parameters in grid space, but if the sample size of the training data is sufficiently large enough to not only to train the model but also big enough to validate on.\n",
    "In this case grid search will determine the best model from the average score from training the model on training points and using test point as the validation. However as mentioned above if we have very few points to begin with and a lot of features, it wouldn't be statistically significant.\n",
    "\n",
    "The grid search algorithm exhaustively considers all parameter combinations of learning algorithm of the \"validation set\" to be able to tune or optimize the algorithm configuration.\n",
    "In particular the grid search technique is configured with a grid that specifiess how the search method computes the parameters in the ranges chosen for the model.\n",
    "\n",
    "Also by partitioning the available data as done before question 2, we reduce the number of samples which can be used for learning the model, and the model prevision score can depend on a particular random choice for the pair of (train, validation) sets. A solution to this problem is a procedure called cross-validation (CV for short). A test set should still be held out for final evaluation, but the validation set is no longer needed when doing CV.\n",
    "In the basic approach, called k-fold CV, the training set is split into k smaller sets. The following procedure is followed for each of the k “folds”:\n",
    " -  A model is trained using \"k-1\" of the folds as training data;\n",
    " -  the resulting model is validated on the remaining part of the data (i.e., it is used as a test set to compute a performance measure such as accuracy).  \n",
    "\n",
    "The performance measure reported by k-fold cross-validation is then the average of the values computed in the loop. This approach can be computationally expensive, but does not waste too much data (as it is the case when fixing an arbitrary test set)."
   ]
  },
  {
   "cell_type": "markdown",
   "metadata": {},
   "source": [
    "> **Note**: Once you have completed all of the code implementations and successfully answered each question above, you may finalize your work by exporting the iPython Notebook as an HTML document. You can do this by using the menu above and navigating to  \n",
    "**File -> Download as -> HTML (.html)**. Include the finished document along with this notebook as your submission."
   ]
  }
 ],
 "metadata": {
  "kernelspec": {
   "display_name": "Python 2",
   "language": "python2",
   "name": "python2"
  },
  "language_info": {
   "codemirror_mode": {
    "name": "ipython",
    "version": 2
   },
   "file_extension": ".py",
   "mimetype": "text/x-python",
   "name": "python",
   "nbconvert_exporter": "python",
   "pygments_lexer": "ipython2",
   "version": "2.7.12"
  }
 },
 "nbformat": 4,
 "nbformat_minor": 0
}
